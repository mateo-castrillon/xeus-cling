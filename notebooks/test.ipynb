{
 "cells": [
  {
   "cell_type": "code",
   "execution_count": 1,
   "id": "696b52eb-7a9b-4730-b729-93acac3ed338",
   "metadata": {},
   "outputs": [],
   "source": [
    "#include <iostream>\n",
    "#include <thread>\n",
    "#include <vector>\n",
    "#include <future>\n",
    "#include<algorithm>\n",
    "\n",
    "class Vehicle\n",
    "{\n",
    "public:\n",
    "    Vehicle(int id) : _id(id) {}\n",
    "\n",
    "private:\n",
    "    int _id;\n",
    "};"
   ]
  },
  {
   "cell_type": "code",
   "execution_count": 2,
   "id": "ef4f9266-7ad7-43e3-9cf7-96a42158ad3e",
   "metadata": {},
   "outputs": [
    {
     "name": "stdout",
     "output_type": "stream",
     "text": [
      "testing notebook in own repo\n"
     ]
    }
   ],
   "source": [
    "std::cout << \"testing notebook in own repo\\n\";"
   ]
  },
  {
   "cell_type": "code",
   "execution_count": null,
   "id": "9ee8f86c-c78c-4695-9a13-08c4e344b10a",
   "metadata": {},
   "outputs": [],
   "source": []
  }
 ],
 "metadata": {
  "kernelspec": {
   "display_name": "C++17",
   "language": "C++17",
   "name": "xcpp17"
  },
  "language_info": {
   "codemirror_mode": "text/x-c++src",
   "file_extension": ".cpp",
   "mimetype": "text/x-c++src",
   "name": "c++",
   "version": "17"
  }
 },
 "nbformat": 4,
 "nbformat_minor": 5
}
